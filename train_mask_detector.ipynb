{
  "cells": [
    {
      "cell_type": "code",
      "execution_count": 3,
      "metadata": {
        "id": "qE-0ZMoaaa4d"
      },
      "outputs": [],
      "source": [
        "# import the necessary packages\n",
        "from tensorflow.keras.optimizers import Adam\n",
        "from tensorflow.keras.preprocessing.image import load_img, img_to_array, ImageDataGenerator\n",
        "from tensorflow.keras.utils import to_categorical\n",
        "from tensorflow.keras.models import Sequential\n",
        "from tensorflow.keras.layers import Conv2D, Dense, MaxPooling2D, Activation, Dropout, Flatten\n",
        "\n",
        "from sklearn.preprocessing import LabelBinarizer\n",
        "from sklearn.model_selection import train_test_split\n",
        "from sklearn.metrics import classification_report\n",
        "\n",
        "import matplotlib.pyplot as plt\n",
        "import numpy as np\n",
        "import os\n"
      ]
    },
    {
      "cell_type": "code",
      "execution_count": 4,
      "metadata": {
        "id": "nNkZTZ6AOZFa"
      },
      "outputs": [],
      "source": [
        "# initialize the initial learning rate, number of epochs to train for, and batch size\n",
        "INIT_LR = 1e-4\n",
        "EPOCHS = 20\n",
        "BS = 32\n",
        "\n",
        "DIRECTORY = r\"dataset\"\n",
        "CATEGORIES = [\"with_mask\", \"without_mask\"]\n"
      ]
    },
    {
      "cell_type": "code",
      "execution_count": 5,
      "metadata": {
        "colab": {
          "base_uri": "https://localhost:8080/"
        },
        "id": "RSZ9MEJCOrHo",
        "outputId": "d65919fa-7a56-4ba2-dafa-4bf1c538620d"
      },
      "outputs": [
        {
          "name": "stdout",
          "output_type": "stream",
          "text": [
            "[INFO] loading images...\n"
          ]
        },
        {
          "name": "stderr",
          "output_type": "stream",
          "text": [
            "/usr/local/lib/python3.7/dist-packages/PIL/Image.py:960: UserWarning: Palette images with Transparency expressed in bytes should be converted to RGBA images\n",
            "  \"Palette images with Transparency expressed in bytes should be \"\n"
          ]
        }
      ],
      "source": [
        "# grab the list of images in our dataset directory, then initialize the list of data (i.e., images) and class images\n",
        "print(\"[INFO] loading images...\")\n",
        "\n",
        "data = []\n",
        "labels = []\n",
        "\n",
        "for category in CATEGORIES:\n",
        "    path = os.path.join(DIRECTORY, category)\n",
        "    for img in os.listdir(path):\n",
        "        img_path = os.path.join(path, img)\n",
        "        image = load_img(img_path, target_size=(224, 224))\n",
        "        image = img_to_array(image)\n",
        "        data.append(image)\n",
        "        labels.append(category)\n"
      ]
    },
    {
      "cell_type": "code",
      "execution_count": 6,
      "metadata": {
        "id": "hV8rFgLHOvrS"
      },
      "outputs": [],
      "source": [
        "# perform one-hot encoding on the labels\n",
        "lb = LabelBinarizer()\n",
        "labels = lb.fit_transform(labels)\n",
        "labels = to_categorical(labels)\n",
        "\n",
        "data = np.array(data, dtype=\"float32\")\n",
        "labels = np.array(labels)\n",
        "\n",
        "(trainX, testX, trainY, testY) = train_test_split(data, labels, test_size=0.20, stratify=labels, random_state=42)\n"
      ]
    },
    {
      "cell_type": "code",
      "execution_count": 7,
      "metadata": {
        "id": "5kdM8DtkO9ME"
      },
      "outputs": [],
      "source": [
        "# construct the training image generator for data augmentation\n",
        "aug = ImageDataGenerator(\n",
        "    rotation_range=20,\n",
        "    zoom_range=0.15,\n",
        "    width_shift_range=0.2,\n",
        "    height_shift_range=0.2,\n",
        "    shear_range=0.15,\n",
        "    horizontal_flip=True,\n",
        "    fill_mode=\"nearest\")\n"
      ]
    },
    {
      "cell_type": "code",
      "execution_count": null,
      "metadata": {
        "colab": {
          "base_uri": "https://localhost:8080/"
        },
        "id": "6ThI_HGgPBND",
        "outputId": "aa490b9f-a930-47da-f1bc-d04a5b2eded1"
      },
      "outputs": [
        {
          "name": "stderr",
          "output_type": "stream",
          "text": [
            "WARNING:tensorflow:`input_shape` is undefined or non-square, or `rows` is not in [96, 128, 160, 192, 224]. Weights for input shape (224, 224) will be loaded as the default.\n"
          ]
        }
      ],
      "source": [
        "# # load the MobileNetV2 network, ensuring the head FC layer sets are left off\n",
        "# baseModel = MobileNetV2(weights=\"imagenet\", include_top=False, input_tensor=Input(shape=(224, 224, 3)))\n",
        "\n",
        "# # construct the head of the model that will be placed on top of the\n",
        "# # the base model\n",
        "# headModel = baseModel.output\n",
        "# headModel = AveragePooling2D(pool_size=(7, 7))(headModel)\n",
        "# headModel = Flatten(name=\"flatten\")(headModel)\n",
        "# headModel = Dense(128, activation=\"relu\")(headModel)\n",
        "# headModel = Dropout(0.5)(headModel)\n",
        "# headModel = Dense(2, activation=\"softmax\")(headModel)\n",
        "\n",
        "# # place the head FC model on top of the base model (this will become the actual model we will train)\n",
        "# model = Model(inputs=baseModel.input, outputs=headModel)\n",
        "\n",
        "# # loop over all layers in the base model and freeze them so they will *not* be updated during the first training process\n",
        "# for layer in baseModel.layers:\n",
        "# \tlayer.trainable = False\n"
      ]
    },
    {
      "cell_type": "code",
      "execution_count": 8,
      "metadata": {
        "id": "TOiNOAsqtCdu"
      },
      "outputs": [],
      "source": [
        "# creating the model\n",
        "model = Sequential()\n",
        "model.add(Conv2D(64,(3, 3), input_shape=(224, 224, 3)))\n",
        "model.add(Activation('relu'))\n",
        "\n",
        "model.add(MaxPooling2D(pool_size = (2, 2)))\n",
        "model.add(Conv2D(256, (3, 3)))\n",
        "model.add(Activation('relu'))\n",
        "\n",
        "model.add(MaxPooling2D(pool_size = (2, 2)))\n",
        "model.add(Conv2D(128, (3, 3)))\n",
        "model.add(Activation('relu'))\n",
        "\n",
        "model.add(Dropout(0.25))\n",
        "model.add(Conv2D(32, (3, 3)))\n",
        "model.add(Activation('relu'))\n",
        "\n",
        "model.add(MaxPooling2D(pool_size = (2, 2)))\n",
        "model.add(Dropout(0.25))\n",
        "\n",
        "model.add(Flatten())\n",
        "\n",
        "model.add(Dense(100, activation='relu'))\n",
        "model.add(Dense(16, activation='relu'))\n",
        "\n",
        "model.add(Dense(len(CATEGORIES)))\n",
        "model.add(Activation('softmax'))\n"
      ]
    },
    {
      "cell_type": "code",
      "execution_count": 9,
      "metadata": {
        "colab": {
          "base_uri": "https://localhost:8080/"
        },
        "id": "egZSzzM0PQQs",
        "outputId": "1163e5bf-c2f4-4d78-a40e-86466360c001"
      },
      "outputs": [
        {
          "name": "stdout",
          "output_type": "stream",
          "text": [
            "[INFO] compiling model...\n"
          ]
        }
      ],
      "source": [
        "# compile our model\n",
        "print(\"[INFO] compiling model...\")\n",
        "model.compile(loss=\"binary_crossentropy\",\n",
        "              optimizer=Adam(learning_rate=INIT_LR, decay=INIT_LR / EPOCHS),\n",
        "              metrics=[\"accuracy\"])\n"
      ]
    },
    {
      "cell_type": "code",
      "execution_count": 10,
      "metadata": {
        "colab": {
          "base_uri": "https://localhost:8080/"
        },
        "id": "UBq_nfeqPUPj",
        "outputId": "c78a3e55-7fa2-4ca2-e88a-ee839d2e4931"
      },
      "outputs": [
        {
          "name": "stdout",
          "output_type": "stream",
          "text": [
            "[INFO] training model...\n",
            "Epoch 1/20\n",
            "95/95 [==============================] - 49s 411ms/step - loss: 0.9341 - accuracy: 0.5257 - val_loss: 0.6865 - val_accuracy: 0.6962\n",
            "Epoch 2/20\n",
            "95/95 [==============================] - 35s 368ms/step - loss: 0.5524 - accuracy: 0.7818 - val_loss: 0.2805 - val_accuracy: 0.9140\n",
            "Epoch 3/20\n",
            "95/95 [==============================] - 35s 369ms/step - loss: 0.3829 - accuracy: 0.8540 - val_loss: 0.2719 - val_accuracy: 0.9283\n",
            "Epoch 4/20\n",
            "95/95 [==============================] - 35s 371ms/step - loss: 0.3312 - accuracy: 0.8790 - val_loss: 0.2332 - val_accuracy: 0.9244\n",
            "Epoch 5/20\n",
            "95/95 [==============================] - 35s 369ms/step - loss: 0.2986 - accuracy: 0.8939 - val_loss: 0.2024 - val_accuracy: 0.9400\n",
            "Epoch 6/20\n",
            "95/95 [==============================] - 35s 370ms/step - loss: 0.2787 - accuracy: 0.8998 - val_loss: 0.1937 - val_accuracy: 0.9413\n",
            "Epoch 7/20\n",
            "95/95 [==============================] - 36s 380ms/step - loss: 0.2652 - accuracy: 0.9005 - val_loss: 0.2314 - val_accuracy: 0.9400\n",
            "Epoch 8/20\n",
            "95/95 [==============================] - 35s 369ms/step - loss: 0.2609 - accuracy: 0.9018 - val_loss: 0.1907 - val_accuracy: 0.9452\n",
            "Epoch 9/20\n",
            "95/95 [==============================] - 37s 393ms/step - loss: 0.2544 - accuracy: 0.9107 - val_loss: 0.1610 - val_accuracy: 0.9492\n",
            "Epoch 10/20\n",
            "95/95 [==============================] - 35s 371ms/step - loss: 0.2332 - accuracy: 0.9097 - val_loss: 0.1521 - val_accuracy: 0.9492\n",
            "Epoch 11/20\n",
            "95/95 [==============================] - 35s 367ms/step - loss: 0.2347 - accuracy: 0.9110 - val_loss: 0.1612 - val_accuracy: 0.9452\n",
            "Epoch 12/20\n",
            "95/95 [==============================] - 35s 369ms/step - loss: 0.2358 - accuracy: 0.9153 - val_loss: 0.1376 - val_accuracy: 0.9531\n",
            "Epoch 13/20\n",
            "95/95 [==============================] - 35s 369ms/step - loss: 0.2263 - accuracy: 0.9189 - val_loss: 0.1646 - val_accuracy: 0.9505\n",
            "Epoch 14/20\n",
            "95/95 [==============================] - 35s 372ms/step - loss: 0.2187 - accuracy: 0.9160 - val_loss: 0.1420 - val_accuracy: 0.9570\n",
            "Epoch 15/20\n",
            "95/95 [==============================] - 35s 366ms/step - loss: 0.1951 - accuracy: 0.9229 - val_loss: 0.1404 - val_accuracy: 0.9557\n",
            "Epoch 16/20\n",
            "95/95 [==============================] - 35s 369ms/step - loss: 0.1999 - accuracy: 0.9301 - val_loss: 0.1713 - val_accuracy: 0.9518\n",
            "Epoch 17/20\n",
            "95/95 [==============================] - 35s 369ms/step - loss: 0.2127 - accuracy: 0.9212 - val_loss: 0.1648 - val_accuracy: 0.9544\n",
            "Epoch 18/20\n",
            "95/95 [==============================] - 35s 370ms/step - loss: 0.1915 - accuracy: 0.9249 - val_loss: 0.1476 - val_accuracy: 0.9518\n",
            "Epoch 19/20\n",
            "95/95 [==============================] - 36s 373ms/step - loss: 0.1828 - accuracy: 0.9361 - val_loss: 0.1515 - val_accuracy: 0.9518\n",
            "Epoch 20/20\n",
            "95/95 [==============================] - 35s 373ms/step - loss: 0.1831 - accuracy: 0.9311 - val_loss: 0.1184 - val_accuracy: 0.9596\n"
          ]
        }
      ],
      "source": [
        "# train the network\n",
        "print(\"[INFO] training model...\")\n",
        "H = model.fit(\n",
        "    aug.flow(trainX, trainY, batch_size=BS),\n",
        "    steps_per_epoch=len(trainX) // BS,\n",
        "    validation_data=(testX, testY),\n",
        "    validation_steps=len(testX) // BS,\n",
        "    epochs=EPOCHS)\n"
      ]
    },
    {
      "cell_type": "code",
      "execution_count": 11,
      "metadata": {
        "colab": {
          "base_uri": "https://localhost:8080/"
        },
        "id": "dNSszN1hPWLz",
        "outputId": "0f7c5275-d8d8-42fc-eac7-e90fbf8bd5ac"
      },
      "outputs": [
        {
          "name": "stdout",
          "output_type": "stream",
          "text": [
            "[INFO] evaluating network...\n",
            "24/24 [==============================] - 2s 98ms/step\n",
            "              precision    recall  f1-score   support\n",
            "\n",
            "   with_mask       0.94      0.98      0.96       383\n",
            "without_mask       0.98      0.94      0.96       384\n",
            "\n",
            "    accuracy                           0.96       767\n",
            "   macro avg       0.96      0.96      0.96       767\n",
            "weighted avg       0.96      0.96      0.96       767\n",
            "\n"
          ]
        }
      ],
      "source": [
        "# make predictions on the testing set\n",
        "print(\"[INFO] evaluating network...\")\n",
        "predIdxs = model.predict(testX, batch_size=BS)\n",
        "\n",
        "# for each image in the testing set we need to find the index of the\n",
        "# label with corresponding largest predicted probability\n",
        "predIdxs = np.argmax(predIdxs, axis=1)\n",
        "\n",
        "# show a nicely formatted classification report\n",
        "print(classification_report(testY.argmax(axis=1), predIdxs, target_names=lb.classes_))"
      ]
    },
    {
      "cell_type": "code",
      "execution_count": 12,
      "metadata": {
        "colab": {
          "base_uri": "https://localhost:8080/"
        },
        "id": "QmdJKbAiPWyG",
        "outputId": "39fbda49-f3b9-4d94-9589-5d200b0a3393"
      },
      "outputs": [
        {
          "name": "stdout",
          "output_type": "stream",
          "text": [
            "[INFO] saving mask detector model...\n"
          ]
        }
      ],
      "source": [
        "# serialize the model to disk\n",
        "print(\"[INFO] saving mask detector model...\")\n",
        "model.save(\"mask_detector.model\", save_format=\"h5\")"
      ]
    },
    {
      "cell_type": "code",
      "execution_count": 13,
      "metadata": {
        "colab": {
          "base_uri": "https://localhost:8080/",
          "height": 299
        },
        "id": "bSemOWxbPpPj",
        "outputId": "ed0dbd8b-809e-4a1a-ca2f-cb2f1fa292b0"
      },
      "outputs": [
        {
          "data": {
            "image/png": "[encoded data removed]",
            "text/plain": [
              "<Figure size 432x288 with 1 Axes>"
            ]
          },
          "metadata": {},
          "output_type": "display_data"
        }
      ],
      "source": [
        "# plot the training loss and accuracy\n",
        "N = EPOCHS\n",
        "plt.style.use(\"ggplot\")\n",
        "plt.figure()\n",
        "plt.plot(np.arange(0, N), H.history[\"loss\"], label=\"train_loss\")\n",
        "plt.plot(np.arange(0, N), H.history[\"val_loss\"], label=\"val_loss\")\n",
        "plt.plot(np.arange(0, N), H.history[\"accuracy\"], label=\"train_acc\")\n",
        "plt.plot(np.arange(0, N), H.history[\"val_accuracy\"], label=\"val_acc\")\n",
        "plt.title(\"Training Loss and Accuracy\")\n",
        "plt.xlabel(\"Epoch #\")\n",
        "plt.ylabel(\"Loss/Accuracy\")\n",
        "plt.legend(loc=\"lower left\")\n",
        "plt.savefig(\"plot.png\")"
      ]
    },
    {
      "cell_type": "code",
      "execution_count": null,
      "metadata": {
        "id": "e_VKvERdtLFL"
      },
      "outputs": [],
      "source": []
    }
  ],
  "metadata": {
    "accelerator": "GPU",
    "colab": {
      "provenance": []
    },
    "gpuClass": "standard",
    "kernelspec": {
      "display_name": "Python 3.9.7 64-bit",
      "language": "python",
      "name": "python3"
    },
    "language_info": {
      "name": "python",
      "version": "3.9.7"
    },
    "vscode": {
      "interpreter": {
        "hash": "bf1aa89ba56c69b21612f39ac0d4fe38e3d449140c89ae095bea97962d54da36"
      }
    }
  },
  "nbformat": 4,
  "nbformat_minor": 0
}
